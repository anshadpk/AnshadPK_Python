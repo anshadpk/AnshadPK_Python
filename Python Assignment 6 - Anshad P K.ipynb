{
 "cells": [
  {
   "cell_type": "markdown",
   "id": "e37eec2b",
   "metadata": {},
   "source": [
    "Question No 1:   What are escape characters, and how do you use them?"
   ]
  },
  {
   "cell_type": "markdown",
   "id": "501708b5",
   "metadata": {},
   "source": [
    "Answer:\n",
    "\n",
    "To insert characters that are illegal in a string, use an escape character.\n",
    "\n",
    "An escape character is a backslash \\ followed by the character you want to insert.\n"
   ]
  },
  {
   "cell_type": "markdown",
   "id": "6b1f2e91",
   "metadata": {},
   "source": [
    "Question No 2:  What do the escape characters n and t stand for?"
   ]
  },
  {
   "cell_type": "markdown",
   "id": "9867febb",
   "metadata": {},
   "source": [
    "Answer: \n",
    "\n",
    "\\n is a newline\n",
    "\n",
    "\\t is a tab\n"
   ]
  },
  {
   "cell_type": "code",
   "execution_count": 4,
   "id": "4ea7da04",
   "metadata": {},
   "outputs": [
    {
     "name": "stdout",
     "output_type": "stream",
     "text": [
      "apple\torange\n",
      "\n",
      "apple\n",
      "orange\n"
     ]
    }
   ],
   "source": [
    "# Example statements\n",
    "\n",
    "print ('apple\\torange')\n",
    "\n",
    "print()\n",
    "\n",
    "print ('apple\\norange')"
   ]
  },
  {
   "cell_type": "markdown",
   "id": "ed25ec0e",
   "metadata": {},
   "source": [
    "Question No 3:  What is the way to include backslash characters in a string?"
   ]
  },
  {
   "cell_type": "markdown",
   "id": "c74b1912",
   "metadata": {},
   "source": [
    "Answer:  \n",
    "\n",
    "The \\\\ escape character will represent a backslash character."
   ]
  },
  {
   "cell_type": "markdown",
   "id": "96df751b",
   "metadata": {},
   "source": [
    "Question No 4:  The string \"Howl's Moving Castle\" is a correct value. Why isn't the single quote character in the word Howl's not escaped a problem?"
   ]
  },
  {
   "cell_type": "markdown",
   "id": "d7a70458",
   "metadata": {},
   "source": [
    "Answer:   \n",
    "\n",
    "The single quote in Howl's is fine because we have used double quotes to mark the beginning and end of the string."
   ]
  },
  {
   "cell_type": "markdown",
   "id": "474eacae",
   "metadata": {},
   "source": [
    "Question No 5:   How do you write a string of newlines if you don't want to use the n character?"
   ]
  },
  {
   "cell_type": "code",
   "execution_count": 9,
   "id": "3777657f",
   "metadata": {},
   "outputs": [],
   "source": [
    "multiline_str = \"\"\"Ineuron is one of the \n",
    "best plarform for \n",
    "learning new technology skills\"\"\""
   ]
  },
  {
   "cell_type": "code",
   "execution_count": 10,
   "id": "8bf80b44",
   "metadata": {},
   "outputs": [
    {
     "data": {
      "text/plain": [
       "'Ineuron is one of the \\nbest plarform for \\nlearning new technology skills'"
      ]
     },
     "execution_count": 10,
     "metadata": {},
     "output_type": "execute_result"
    }
   ],
   "source": [
    "multiline_str"
   ]
  },
  {
   "cell_type": "markdown",
   "id": "99f564b1",
   "metadata": {},
   "source": [
    "Explanation:  Multiline strings allow us to use newlines in strings without the \\n escape character."
   ]
  },
  {
   "cell_type": "markdown",
   "id": "40585566",
   "metadata": {},
   "source": [
    "Question No 6:\n",
    "\n",
    "What are the values of the given expressions? 'Hello, world!'[1] 'Hello, world!'[0:5] 'Hello, world!'[:5] 'Hello, world!'[3:] "
   ]
  },
  {
   "cell_type": "code",
   "execution_count": 24,
   "id": "2cec3af5",
   "metadata": {},
   "outputs": [
    {
     "data": {
      "text/plain": [
       "'e'"
      ]
     },
     "execution_count": 24,
     "metadata": {},
     "output_type": "execute_result"
    }
   ],
   "source": [
    "'Hello, world!'[1]\n"
   ]
  },
  {
   "cell_type": "code",
   "execution_count": 25,
   "id": "2919c05a",
   "metadata": {},
   "outputs": [
    {
     "data": {
      "text/plain": [
       "'Hello'"
      ]
     },
     "execution_count": 25,
     "metadata": {},
     "output_type": "execute_result"
    }
   ],
   "source": [
    "'Hello, world!'[0:5]\n"
   ]
  },
  {
   "cell_type": "code",
   "execution_count": 26,
   "id": "3e26c632",
   "metadata": {},
   "outputs": [
    {
     "data": {
      "text/plain": [
       "'Hello'"
      ]
     },
     "execution_count": 26,
     "metadata": {},
     "output_type": "execute_result"
    }
   ],
   "source": [
    "'Hello, world!'[:5] \n"
   ]
  },
  {
   "cell_type": "code",
   "execution_count": 27,
   "id": "68b45a6a",
   "metadata": {},
   "outputs": [
    {
     "data": {
      "text/plain": [
       "'lo, world!'"
      ]
     },
     "execution_count": 27,
     "metadata": {},
     "output_type": "execute_result"
    }
   ],
   "source": [
    "'Hello, world!'[3:]"
   ]
  },
  {
   "cell_type": "markdown",
   "id": "a2a9af18",
   "metadata": {},
   "source": [
    "Question No 7:\n",
    "\n",
    "What are the values of the following expressions? 'Hello'.upper() 'Hello'.upper().isupper() 'Hello'.upper().lower()"
   ]
  },
  {
   "cell_type": "code",
   "execution_count": 28,
   "id": "349555ec",
   "metadata": {},
   "outputs": [
    {
     "data": {
      "text/plain": [
       "'HELLO'"
      ]
     },
     "execution_count": 28,
     "metadata": {},
     "output_type": "execute_result"
    }
   ],
   "source": [
    "'Hello'.upper()\n"
   ]
  },
  {
   "cell_type": "code",
   "execution_count": 29,
   "id": "a0e51397",
   "metadata": {},
   "outputs": [
    {
     "data": {
      "text/plain": [
       "True"
      ]
     },
     "execution_count": 29,
     "metadata": {},
     "output_type": "execute_result"
    }
   ],
   "source": [
    "'Hello'.upper().isupper() \n"
   ]
  },
  {
   "cell_type": "code",
   "execution_count": 30,
   "id": "69470b27",
   "metadata": {},
   "outputs": [
    {
     "data": {
      "text/plain": [
       "'hello'"
      ]
     },
     "execution_count": 30,
     "metadata": {},
     "output_type": "execute_result"
    }
   ],
   "source": [
    "'Hello'.upper().lower()"
   ]
  },
  {
   "cell_type": "markdown",
   "id": "79cc87e4",
   "metadata": {},
   "source": [
    "Question No 8:\n",
    "\n",
    "What are the values of the following expressions?\n",
    "\n",
    "'Remember, remember, the fifth of July.'.split() '-'.join('There can only one.'.split())"
   ]
  },
  {
   "cell_type": "code",
   "execution_count": 33,
   "id": "eab90c0e",
   "metadata": {},
   "outputs": [
    {
     "data": {
      "text/plain": [
       "['Remember,', 'remember,', 'the', 'fifth', 'of', 'July.']"
      ]
     },
     "execution_count": 33,
     "metadata": {},
     "output_type": "execute_result"
    }
   ],
   "source": [
    "'Remember, remember, the fifth of July.'.split()\n"
   ]
  },
  {
   "cell_type": "code",
   "execution_count": 34,
   "id": "99ec2381",
   "metadata": {},
   "outputs": [
    {
     "data": {
      "text/plain": [
       "['There', 'can', 'only', 'one.']"
      ]
     },
     "execution_count": 34,
     "metadata": {},
     "output_type": "execute_result"
    }
   ],
   "source": [
    "'There can only one.'.split()"
   ]
  },
  {
   "cell_type": "code",
   "execution_count": 35,
   "id": "244f172d",
   "metadata": {},
   "outputs": [
    {
     "data": {
      "text/plain": [
       "'There-can-only-one.'"
      ]
     },
     "execution_count": 35,
     "metadata": {},
     "output_type": "execute_result"
    }
   ],
   "source": [
    " '-'.join('There can only one.'.split())"
   ]
  },
  {
   "cell_type": "markdown",
   "id": "e2e3fb9b",
   "metadata": {},
   "source": [
    "Question No 9:\n",
    "\n",
    "What are the methods for right-justifying, left-justifying, and centering a string?"
   ]
  },
  {
   "cell_type": "markdown",
   "id": "46cb4971",
   "metadata": {},
   "source": [
    "The rjust(), ljust(), and center() string methods, respectively"
   ]
  },
  {
   "cell_type": "markdown",
   "id": "082c92f4",
   "metadata": {},
   "source": [
    "Question No 10:   What is the best way to remove whitespace characters from the start or end?"
   ]
  },
  {
   "cell_type": "markdown",
   "id": "67099cd7",
   "metadata": {},
   "source": [
    "Use the .strip() method to remove whitespace and characters from the beginning and the end of a string.\n",
    "Use the .lstrip() method to remove whitespace and characters only from the beginning of a string.\n",
    "Use the .rstrip() method to remove whitespace and characters only from the end of a string."
   ]
  },
  {
   "cell_type": "code",
   "execution_count": null,
   "id": "dc0aeed2",
   "metadata": {},
   "outputs": [],
   "source": []
  },
  {
   "cell_type": "code",
   "execution_count": null,
   "id": "4465ed25",
   "metadata": {},
   "outputs": [],
   "source": []
  }
 ],
 "metadata": {
  "kernelspec": {
   "display_name": "Python 3 (ipykernel)",
   "language": "python",
   "name": "python3"
  },
  "language_info": {
   "codemirror_mode": {
    "name": "ipython",
    "version": 3
   },
   "file_extension": ".py",
   "mimetype": "text/x-python",
   "name": "python",
   "nbconvert_exporter": "python",
   "pygments_lexer": "ipython3",
   "version": "3.9.12"
  }
 },
 "nbformat": 4,
 "nbformat_minor": 5
}
