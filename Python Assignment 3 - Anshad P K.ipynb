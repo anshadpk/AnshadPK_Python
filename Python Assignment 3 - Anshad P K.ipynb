{
 "cells": [
  {
   "cell_type": "markdown",
   "id": "4f7a6755",
   "metadata": {},
   "source": [
    "Question No 1:   Why are functions advantageous to have in your programs?"
   ]
  },
  {
   "cell_type": "markdown",
   "id": "369f8d8c",
   "metadata": {},
   "source": [
    "Answer:\n",
    "\n",
    "The advantages of using functions are:\n",
    "\n",
    "Reducing duplication of code\n",
    "Decomposing complex problems into simpler pieces\n",
    "Improving clarity of the code\n",
    "Reuse of code\n",
    "Information hiding"
   ]
  },
  {
   "cell_type": "markdown",
   "id": "923ba4a4",
   "metadata": {},
   "source": [
    "Question No 2:   When does the code in a function run: when it's specified or when it's called?"
   ]
  },
  {
   "cell_type": "markdown",
   "id": "749eb638",
   "metadata": {},
   "source": [
    "Answer:\n",
    "\n",
    "The code in a function executes when the function is called, not when the function is defined."
   ]
  },
  {
   "cell_type": "markdown",
   "id": "820c0f0a",
   "metadata": {},
   "source": [
    "Question No 3 :  What statement creates a function?"
   ]
  },
  {
   "cell_type": "markdown",
   "id": "9a7885b1",
   "metadata": {},
   "source": [
    "Answer:\n",
    "\n",
    "The def statement defines (that is, creates) a function.\n",
    "\n",
    "Example:\n",
    "\n",
    "def test(n):\n",
    "    return n*n\n"
   ]
  },
  {
   "cell_type": "markdown",
   "id": "9a3d4b6f",
   "metadata": {},
   "source": [
    "in the above examople test is afunction which returns square of an intiger"
   ]
  },
  {
   "cell_type": "markdown",
   "id": "8e83476e",
   "metadata": {},
   "source": [
    "Question No 4:   What is the difference between a function and a function call?"
   ]
  },
  {
   "cell_type": "markdown",
   "id": "148ed991",
   "metadata": {},
   "source": [
    "Answer:\n",
    "\n",
    "A function consists of the def statement and the code in its def clause.\n",
    "\n",
    "A function call is what moves the program execution into the function, and the function call evaluates to the function's return value.\n",
    "\n",
    "# definition\n",
    "def test(n): \n",
    "\n",
    "   return n*n\n",
    "   \n",
    "# function call\n",
    "\n",
    "test(5)\n",
    "\n"
   ]
  },
  {
   "cell_type": "markdown",
   "id": "b71f4c98",
   "metadata": {},
   "source": [
    "Question No 5:   How many global scopes are there in a Python program? How many local scopes?\n"
   ]
  },
  {
   "cell_type": "markdown",
   "id": "ae6d3fec",
   "metadata": {},
   "source": [
    "Answer:\n",
    "\n",
    "There is one global scope, and a local scope is created whenever a function is called.\n",
    "\n"
   ]
  },
  {
   "cell_type": "markdown",
   "id": "5c589b4f",
   "metadata": {},
   "source": [
    "Question No 6:  What happens to variables in a local scope when the function call returns?"
   ]
  },
  {
   "cell_type": "markdown",
   "id": "b149f523",
   "metadata": {},
   "source": [
    "Answer:\n",
    "\n",
    "When the execution of the function terminates (returns), the local variables are destroyed. After that there is no existence for such local variables. if we are trying print a local variable after that it will show that \"variable not defined\"."
   ]
  },
  {
   "cell_type": "markdown",
   "id": "c326aa84",
   "metadata": {},
   "source": [
    "Question No 7:  What is the concept of a return value? Is it possible to have a return value in an expression?\n"
   ]
  },
  {
   "cell_type": "markdown",
   "id": "7438a1b5",
   "metadata": {},
   "source": [
    "Answer:\n",
    "\n",
    "A return statement is used to end the execution of the function call and “returns” the result (value of the expression following the return keyword) to the caller. The statements after the return statements are not executed. If the return statement is without any expression, then the special value None is returned. A return statement is overall used to invoke a function so that the passed statements can be executed."
   ]
  },
  {
   "cell_type": "markdown",
   "id": "2c956d70",
   "metadata": {},
   "source": [
    "Question No 8:  If a function does not have a return statement, what is the return value of a call to that function?\n"
   ]
  },
  {
   "cell_type": "markdown",
   "id": "f827c526",
   "metadata": {},
   "source": [
    "Answer:\n",
    "\n",
    "We can omit the return value of a function and use a bare return without a return value. We can also omit the entire return statement. In both cases, the return value will be None."
   ]
  },
  {
   "cell_type": "markdown",
   "id": "a0cfcd0e",
   "metadata": {},
   "source": [
    "Question No 9:  How do you make a function variable refer to the global variable?\n"
   ]
  },
  {
   "cell_type": "markdown",
   "id": "c671ddb3",
   "metadata": {},
   "source": [
    "Answer:\n",
    "    \n",
    "Normally, when we create a variable inside a function, that variable is local, and can only be used inside that function.\n",
    "\n",
    "To create a global variable inside a function, we can use the global keyword.\n",
    "\n",
    "Example:\n",
    "\n",
    "def myfunc():\n",
    "  global x\n",
    "  x = \"Mr Sudhanshu is Good a Motivator\"\n",
    "\n",
    "myfunc()\n",
    "\n",
    "print(\"Gentleman \" + x)\n",
    "\n",
    "\n",
    "If we run this code the variable x can be accessed outside local function"
   ]
  },
  {
   "cell_type": "markdown",
   "id": "04dc02a3",
   "metadata": {},
   "source": [
    "Question No 10:  What is the data type of None?\n"
   ]
  },
  {
   "cell_type": "markdown",
   "id": "13ef6bd8",
   "metadata": {},
   "source": [
    "Answer:  \n",
    "\n",
    "The None keyword is used to define a null value, or no value at all.\n",
    "\n",
    "None is not the same as 0, False, or an empty string. None is a data type of its own (NoneType) and only None can be None.\n"
   ]
  },
  {
   "cell_type": "markdown",
   "id": "8314e1a1",
   "metadata": {},
   "source": [
    "Question No 11:  What does the sentence import areallyourpetsnamederic do?\n"
   ]
  },
  {
   "cell_type": "markdown",
   "id": "c5d9b4f8",
   "metadata": {},
   "source": [
    "Answer:\n",
    "    \n",
    "\n",
    "There is no module named 'areallyourpetsnamederic'  in python"
   ]
  },
  {
   "cell_type": "markdown",
   "id": "0dc87f18",
   "metadata": {},
   "source": [
    "Question No 12:   if you had a bacon() feature in a spam module, what would you call it after importing spam?\n"
   ]
  },
  {
   "cell_type": "markdown",
   "id": "99e1a13a",
   "metadata": {},
   "source": [
    "Answer:\n",
    "\n",
    "This function can be called with spam.bacon()\n"
   ]
  },
  {
   "cell_type": "markdown",
   "id": "708a4bb4",
   "metadata": {},
   "source": [
    "Question No 13:    What can you do to save a programme from crashing if it encounters an error?\n"
   ]
  },
  {
   "cell_type": "markdown",
   "id": "44ae1727",
   "metadata": {},
   "source": [
    "Answer:\n",
    "\n",
    "Move our code inside a try and except statement. Try running the program and it should throw an error message instead of crashing the program. The reason for the exception is also returned as an exception message.\n"
   ]
  },
  {
   "cell_type": "markdown",
   "id": "3a4b7c57",
   "metadata": {},
   "source": [
    "Question No 14:   What is the purpose of the try clause? What is the purpose of the except clause?\n"
   ]
  },
  {
   "cell_type": "markdown",
   "id": "fa588277",
   "metadata": {},
   "source": [
    "Answer:\n",
    "\n",
    "The try block lets you test a block of code for errors.\n",
    "\n",
    "The except block lets you handle the error."
   ]
  },
  {
   "cell_type": "code",
   "execution_count": null,
   "id": "05c3b9f5",
   "metadata": {},
   "outputs": [],
   "source": []
  }
 ],
 "metadata": {
  "kernelspec": {
   "display_name": "Python 3 (ipykernel)",
   "language": "python",
   "name": "python3"
  },
  "language_info": {
   "codemirror_mode": {
    "name": "ipython",
    "version": 3
   },
   "file_extension": ".py",
   "mimetype": "text/x-python",
   "name": "python",
   "nbconvert_exporter": "python",
   "pygments_lexer": "ipython3",
   "version": "3.9.12"
  }
 },
 "nbformat": 4,
 "nbformat_minor": 5
}
