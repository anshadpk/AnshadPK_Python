{
 "cells": [
  {
   "cell_type": "markdown",
   "id": "6347a76c",
   "metadata": {},
   "source": [
    "Question No 1:  What are the two values of the Boolean data type? How do you write them?"
   ]
  },
  {
   "cell_type": "markdown",
   "id": "9243c681",
   "metadata": {},
   "source": [
    "Answer:\n",
    "\n",
    "Python boolean type is one of the built-in data types provided by Python, which represents one of the two values\n",
    "i.e. True or False.\n",
    "Generally, it is used to represent the truth values of the expressions.\n"
   ]
  },
  {
   "cell_type": "markdown",
   "id": "d1e17c2f",
   "metadata": {},
   "source": [
    "Question No 2:   What are the three different types of Boolean operators?"
   ]
  },
  {
   "cell_type": "markdown",
   "id": "1b51bd3f",
   "metadata": {},
   "source": [
    "Answer: \n",
    "\n",
    "Boolean Operations are simple arithmetic of True and False values. These values can be manipulated by the use of boolean operators which include and  , or   , and not  . "
   ]
  },
  {
   "cell_type": "markdown",
   "id": "28e8dd3e",
   "metadata": {},
   "source": [
    "Question No 4:  What are the values of the following expressions?\n",
    "(5 > 4) and (3 == 5)\n",
    "not (5 > 4)\n",
    "(5 > 4) or (3 == 5)\n",
    "not ((5 > 4) or (3 == 5))\n",
    "(True and True) and (True == False)\n",
    "(not False) or (not True)\n"
   ]
  },
  {
   "cell_type": "markdown",
   "id": "79af1b71",
   "metadata": {},
   "source": [
    "(5 > 4) and (3 == 5)\n",
    "\n",
    "True and False is False"
   ]
  },
  {
   "cell_type": "markdown",
   "id": "f3e0a4a2",
   "metadata": {},
   "source": [
    "not (5 > 4)\n",
    "\n",
    "not(True) is False"
   ]
  },
  {
   "cell_type": "markdown",
   "id": "c18a161b",
   "metadata": {},
   "source": [
    "(5 > 4) or (3 == 5)\n",
    "True or False is True"
   ]
  },
  {
   "cell_type": "markdown",
   "id": "ec1b36cb",
   "metadata": {},
   "source": [
    "not ((5 > 4) or (3 == 5)) \n",
    "\n",
    "\n",
    "not((True) or (False)) \n",
    "\n",
    "\n",
    "not(True) is False"
   ]
  },
  {
   "cell_type": "markdown",
   "id": "3bd90b98",
   "metadata": {},
   "source": [
    "\n",
    "\n",
    "(True and True) and (True == False)\n",
    "\n",
    "True and False\n",
    "\n",
    "False\n",
    "\n"
   ]
  },
  {
   "cell_type": "markdown",
   "id": "daff896b",
   "metadata": {},
   "source": [
    "\n",
    "\n",
    "(not False) or (not True)\n",
    "\n",
    "\n",
    "True"
   ]
  },
  {
   "cell_type": "markdown",
   "id": "5c2d57c2",
   "metadata": {},
   "source": [
    "Question No 3: Make a list of each Boolean operator's truth tables (i.e. every possible combination of Boolean values for the operator and what it evaluate )."
   ]
  },
  {
   "cell_type": "markdown",
   "id": "72553ea8",
   "metadata": {},
   "source": [
    "and operation:\n",
    "\n",
    "True and True is True\n",
    "\n",
    "\n",
    "True and False is False\n",
    "\n",
    "\n",
    "False and True is False\n",
    "\n",
    "\n",
    "False and False is False\n",
    "\n",
    "or operation:\n",
    "\n",
    "True or True is True\n",
    "\n",
    "\n",
    "True or False is True\n",
    "\n",
    "\n",
    "False or True is True\n",
    "\n",
    "\n",
    "False or False is False\n",
    "\n",
    "\n",
    "not operation:\n",
    "\n",
    "not True is False\n",
    "\n",
    "\n",
    "not False is True\n"
   ]
  },
  {
   "cell_type": "markdown",
   "id": "0ac79518",
   "metadata": {},
   "source": [
    "Question No 5: What are the six comparison operators?"
   ]
  },
  {
   "cell_type": "markdown",
   "id": "d7a01279",
   "metadata": {},
   "source": [
    "Answer:\n",
    "\n",
    "operator 1    == is equivalent\n",
    "\n",
    "operator 2    != is not equivalent\n",
    "\n",
    "operator 3    < is less than \n",
    "\n",
    "operator 4    >  is greater than\n",
    "\n",
    "operator 5    <= is less than or equal to \n",
    "\n",
    "operator 6    >= is greater than or equal to"
   ]
  },
  {
   "cell_type": "markdown",
   "id": "bd1417f2",
   "metadata": {},
   "source": [
    "6. How do you tell the difference between the equal to and assignment operators?Describe a condition and when you would use one."
   ]
  },
  {
   "cell_type": "markdown",
   "id": "838125ee",
   "metadata": {},
   "source": [
    "Answer:\n",
    "\n",
    "== is the equal to operator that compares two values and evaluates to a Boolean,\n",
    "\n",
    "while = is the assignment operator that stores a value in a variable.\n",
    "\n"
   ]
  },
  {
   "cell_type": "code",
   "execution_count": 10,
   "id": "f8f465d7",
   "metadata": {},
   "outputs": [
    {
     "name": "stdout",
     "output_type": "stream",
     "text": [
      "2\n"
     ]
    }
   ],
   "source": [
    "a = 2\n",
    "print(a)"
   ]
  },
  {
   "cell_type": "code",
   "execution_count": 11,
   "id": "dcf463c8",
   "metadata": {},
   "outputs": [
    {
     "data": {
      "text/plain": [
       "False"
      ]
     },
     "execution_count": 11,
     "metadata": {},
     "output_type": "execute_result"
    }
   ],
   "source": [
    "a= 3\n",
    "b= 5\n",
    "a==b"
   ]
  },
  {
   "cell_type": "markdown",
   "id": "c00e62ea",
   "metadata": {},
   "source": [
    "7. Identify the three blocks in this code:\n",
    "spam = 0\n",
    "if spam == 10:\n",
    "print('eggs')\n",
    "\n",
    "if spam > 5:\n",
    "print('bacon')\n",
    "\n",
    "else:\n",
    "print('ham')\n",
    "print('spam')\n",
    "print('spam')\n"
   ]
  },
  {
   "cell_type": "markdown",
   "id": "b73d46e0",
   "metadata": {},
   "source": [
    "Answer:\n",
    "\n",
    "spam = 0\n",
    "\n",
    "# Block 1\n",
    "\n",
    "if spam == 10:\n",
    "    print('eggs')\n",
    "    \n",
    "# Block 2\n",
    "    \n",
    "if spam > 5:\n",
    "    print('bacon')\n",
    "    \n",
    "# Block 3\n",
    "\n",
    "else:\n",
    "    print('ham')\n",
    "    print('spam')\n",
    "    print('spam')\n"
   ]
  },
  {
   "cell_type": "markdown",
   "id": "63b467f6",
   "metadata": {},
   "source": [
    "8. Write code that prints Hello if 1 is stored in spam, prints Howdy if 2 is stored in spam, and prints Greetings! if anything else is stored in spam.\n"
   ]
  },
  {
   "cell_type": "markdown",
   "id": "fa17dcce",
   "metadata": {},
   "source": [
    "Answer: \n",
    "\n",
    "if spam == 1:\n",
    "    print('Hello')\n",
    "\n",
    "elif spam == 2:\n",
    "    print('Howdy')\n",
    "\n",
    "else:\n",
    "    print('Greetings!')"
   ]
  },
  {
   "cell_type": "markdown",
   "id": "0f891364",
   "metadata": {},
   "source": [
    "9.If your programme is stuck in an endless loop, what keys you’ll press?\n"
   ]
  },
  {
   "cell_type": "markdown",
   "id": "e456974c",
   "metadata": {},
   "source": [
    "Answer:\n",
    "\n",
    "Press CTRL-C to stop a program stuck in an infinite loop.\n",
    "\n",
    "In Jupter notebook we can interrupt Kernel for stopping an infinite loop"
   ]
  },
  {
   "cell_type": "markdown",
   "id": "9e7a0491",
   "metadata": {},
   "source": [
    "10. How can you tell the difference between break and continue?"
   ]
  },
  {
   "cell_type": "markdown",
   "id": "613daaa4",
   "metadata": {},
   "source": [
    "Answer:\n",
    "\n",
    "In a loop Break terminates the remaining iterations.\n",
    "\n",
    "Continue doesn't terminate the next iterations; it resumes with the successive iterations.\n"
   ]
  },
  {
   "cell_type": "markdown",
   "id": "d8778fee",
   "metadata": {},
   "source": [
    "11. In a for loop, what is the difference between range(10), range(0, 10), and range(0, 10, 1)?\n"
   ]
  },
  {
   "cell_type": "markdown",
   "id": "eb5d5dfd",
   "metadata": {},
   "source": [
    "Answer:\n",
    "\n",
    "No difference\n"
   ]
  },
  {
   "cell_type": "code",
   "execution_count": 16,
   "id": "6cf37ae6",
   "metadata": {},
   "outputs": [
    {
     "data": {
      "text/plain": [
       "range(0, 10)"
      ]
     },
     "execution_count": 16,
     "metadata": {},
     "output_type": "execute_result"
    }
   ],
   "source": [
    "range(10)"
   ]
  },
  {
   "cell_type": "code",
   "execution_count": 17,
   "id": "f893ec12",
   "metadata": {},
   "outputs": [
    {
     "data": {
      "text/plain": [
       "range(0, 10)"
      ]
     },
     "execution_count": 17,
     "metadata": {},
     "output_type": "execute_result"
    }
   ],
   "source": [
    "range(0, 10)"
   ]
  },
  {
   "cell_type": "code",
   "execution_count": 18,
   "id": "eb0a4a66",
   "metadata": {},
   "outputs": [
    {
     "data": {
      "text/plain": [
       "range(0, 10)"
      ]
     },
     "execution_count": 18,
     "metadata": {},
     "output_type": "execute_result"
    }
   ],
   "source": [
    "range (0, 10,1)"
   ]
  },
  {
   "cell_type": "markdown",
   "id": "84fd7d90",
   "metadata": {},
   "source": [
    "12. Write a short program that prints the numbers 1 to 10 using a for loop. Then write an equivalent program that prints the numbers 1 to 10 using a while loop.\n"
   ]
  },
  {
   "cell_type": "markdown",
   "id": "9d536abf",
   "metadata": {},
   "source": [
    "Answer:\n"
   ]
  },
  {
   "cell_type": "code",
   "execution_count": 19,
   "id": "438f0295",
   "metadata": {},
   "outputs": [
    {
     "name": "stdout",
     "output_type": "stream",
     "text": [
      "1\n",
      "2\n",
      "3\n",
      "4\n",
      "5\n",
      "6\n",
      "7\n",
      "8\n",
      "9\n",
      "10\n"
     ]
    }
   ],
   "source": [
    "for i in range(1,11):\n",
    "    print(i)"
   ]
  },
  {
   "cell_type": "code",
   "execution_count": 20,
   "id": "d560855b",
   "metadata": {},
   "outputs": [
    {
     "name": "stdout",
     "output_type": "stream",
     "text": [
      "1\n",
      "2\n",
      "3\n",
      "4\n",
      "5\n",
      "6\n",
      "7\n",
      "8\n",
      "9\n",
      "10\n"
     ]
    }
   ],
   "source": [
    "i=1\n",
    "while(i<=10):\n",
    "    print(i)\n",
    "    i= i+1"
   ]
  },
  {
   "cell_type": "markdown",
   "id": "01e75c1a",
   "metadata": {},
   "source": [
    "13. If you had a function named bacon() inside a module named spam, how would you call it after importing spam?\n"
   ]
  },
  {
   "cell_type": "markdown",
   "id": "1daa95f9",
   "metadata": {},
   "source": [
    "Answer:\n",
    "\n",
    "This function can be called with spam.bacon().\n"
   ]
  },
  {
   "cell_type": "code",
   "execution_count": null,
   "id": "90a52cfc",
   "metadata": {},
   "outputs": [],
   "source": []
  }
 ],
 "metadata": {
  "kernelspec": {
   "display_name": "Python 3 (ipykernel)",
   "language": "python",
   "name": "python3"
  },
  "language_info": {
   "codemirror_mode": {
    "name": "ipython",
    "version": 3
   },
   "file_extension": ".py",
   "mimetype": "text/x-python",
   "name": "python",
   "nbconvert_exporter": "python",
   "pygments_lexer": "ipython3",
   "version": "3.9.12"
  }
 },
 "nbformat": 4,
 "nbformat_minor": 5
}
