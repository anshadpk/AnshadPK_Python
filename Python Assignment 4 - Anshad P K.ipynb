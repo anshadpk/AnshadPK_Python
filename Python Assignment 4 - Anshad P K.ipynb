{
 "cells": [
  {
   "cell_type": "markdown",
   "id": "020ca366",
   "metadata": {},
   "source": [
    "Question No 1:   What is []?"
   ]
  },
  {
   "cell_type": "markdown",
   "id": "a2089b09",
   "metadata": {},
   "source": [
    "Answer:\n",
    "\n",
    "The empty list value, which is a list value that contains no items. This is similar to how '' is the empty string value.\n",
    "\n",
    "Example:\n",
    "\n",
    "list=[]\n"
   ]
  },
  {
   "cell_type": "markdown",
   "id": "43cf8c54",
   "metadata": {},
   "source": [
    "Question No 2:   In a list of values stored in a variable called spam, how would you assign the value 'hello' as the third value? (Assume [2, 4, 6, 8, 10] are in spam.)\n"
   ]
  },
  {
   "cell_type": "code",
   "execution_count": 1,
   "id": "1aaafe18",
   "metadata": {},
   "outputs": [
    {
     "data": {
      "text/plain": [
       "[2, 4, 6, 8, 10]"
      ]
     },
     "execution_count": 1,
     "metadata": {},
     "output_type": "execute_result"
    }
   ],
   "source": [
    "spam = [2,4,6,8,10]\n",
    "spam"
   ]
  },
  {
   "cell_type": "code",
   "execution_count": 2,
   "id": "a9e3cf8f",
   "metadata": {},
   "outputs": [
    {
     "data": {
      "text/plain": [
       "[2, 4, 'hello', 8, 10]"
      ]
     },
     "execution_count": 2,
     "metadata": {},
     "output_type": "execute_result"
    }
   ],
   "source": [
    "spam[2]='hello'\n",
    "spam"
   ]
  },
  {
   "cell_type": "markdown",
   "id": "87c08c01",
   "metadata": {},
   "source": [
    "# Let's pretend the spam includes the list ['a', 'b', 'c', 'd'] for the next three queries."
   ]
  },
  {
   "cell_type": "markdown",
   "id": "f687a5cd",
   "metadata": {},
   "source": [
    "Question No 3:  What is the value of spam[int(int('3' * 2) / 11)]?\n"
   ]
  },
  {
   "cell_type": "code",
   "execution_count": 9,
   "id": "dfe11c0d",
   "metadata": {},
   "outputs": [],
   "source": [
    "spam =['a','b','c','d']\n"
   ]
  },
  {
   "cell_type": "code",
   "execution_count": 10,
   "id": "626261b0",
   "metadata": {},
   "outputs": [
    {
     "data": {
      "text/plain": [
       "['a', 'b', 'c', 'd']"
      ]
     },
     "execution_count": 10,
     "metadata": {},
     "output_type": "execute_result"
    }
   ],
   "source": [
    "spam"
   ]
  },
  {
   "cell_type": "code",
   "execution_count": 11,
   "id": "d943678b",
   "metadata": {},
   "outputs": [
    {
     "data": {
      "text/plain": [
       "'d'"
      ]
     },
     "execution_count": 11,
     "metadata": {},
     "output_type": "execute_result"
    }
   ],
   "source": [
    "spam[int(int('3'*2) / 11)]"
   ]
  },
  {
   "cell_type": "markdown",
   "id": "4beb57f6",
   "metadata": {},
   "source": [
    "explanation:  '3'*2 means '33'.   int('33') is equal to 33"
   ]
  },
  {
   "cell_type": "markdown",
   "id": "94e838be",
   "metadata": {},
   "source": [
    "Question No 4:   What is the value of spam[-1]?\n"
   ]
  },
  {
   "cell_type": "markdown",
   "id": "fd3165f9",
   "metadata": {},
   "source": [
    "Answer: \n",
    "\n",
    "spam[-1] = 'd'"
   ]
  },
  {
   "cell_type": "markdown",
   "id": "773ce1d7",
   "metadata": {},
   "source": [
    "Question No 5:  What is the value of spam[:2]?\n"
   ]
  },
  {
   "cell_type": "code",
   "execution_count": 13,
   "id": "7898ee0f",
   "metadata": {},
   "outputs": [
    {
     "data": {
      "text/plain": [
       "['a', 'b']"
      ]
     },
     "execution_count": 13,
     "metadata": {},
     "output_type": "execute_result"
    }
   ],
   "source": [
    "spam[:2]"
   ]
  },
  {
   "cell_type": "markdown",
   "id": "3757cd3a",
   "metadata": {},
   "source": [
    "# Let's pretend bacon has the list [3.14, 'cat,' 11, 'cat,' True] for the next three questions."
   ]
  },
  {
   "cell_type": "markdown",
   "id": "91f13767",
   "metadata": {},
   "source": [
    "Question No 6:  What is the value of bacon.index('cat')?"
   ]
  },
  {
   "cell_type": "code",
   "execution_count": 19,
   "id": "a1b0159f",
   "metadata": {},
   "outputs": [],
   "source": [
    "bacon = [3.14,'cat',11,'cat', True]"
   ]
  },
  {
   "cell_type": "code",
   "execution_count": 20,
   "id": "47865e0f",
   "metadata": {},
   "outputs": [
    {
     "data": {
      "text/plain": [
       "1"
      ]
     },
     "execution_count": 20,
     "metadata": {},
     "output_type": "execute_result"
    }
   ],
   "source": [
    "bacon.index('cat')"
   ]
  },
  {
   "cell_type": "markdown",
   "id": "e171b92a",
   "metadata": {},
   "source": [
    "Question No 7:   How does bacon.append(99) change the look of the list value in bacon?\n"
   ]
  },
  {
   "cell_type": "code",
   "execution_count": 26,
   "id": "9041bc98",
   "metadata": {},
   "outputs": [
    {
     "data": {
      "text/plain": [
       "[3.14, 'cat', 11, 'cat', True]"
      ]
     },
     "execution_count": 26,
     "metadata": {},
     "output_type": "execute_result"
    }
   ],
   "source": [
    "bacon = [3.14,'cat',11,'cat', True]\n",
    "bacon"
   ]
  },
  {
   "cell_type": "code",
   "execution_count": 27,
   "id": "868ea7a6",
   "metadata": {},
   "outputs": [
    {
     "data": {
      "text/plain": [
       "[3.14, 'cat', 11, 'cat', True, 99]"
      ]
     },
     "execution_count": 27,
     "metadata": {},
     "output_type": "execute_result"
    }
   ],
   "source": [
    "bacon.append(99)\n",
    "bacon"
   ]
  },
  {
   "cell_type": "markdown",
   "id": "8f2b83f1",
   "metadata": {},
   "source": [
    "Question No 8: How does bacon.remove('cat') change the look of the list in bacon?"
   ]
  },
  {
   "cell_type": "code",
   "execution_count": 28,
   "id": "e95ac479",
   "metadata": {},
   "outputs": [
    {
     "data": {
      "text/plain": [
       "[3.14, 'cat', 11, 'cat', True]"
      ]
     },
     "execution_count": 28,
     "metadata": {},
     "output_type": "execute_result"
    }
   ],
   "source": [
    "bacon = [3.14,'cat',11,'cat', True]\n",
    "bacon"
   ]
  },
  {
   "cell_type": "code",
   "execution_count": 29,
   "id": "b08645f2",
   "metadata": {},
   "outputs": [
    {
     "data": {
      "text/plain": [
       "[3.14, 11, 'cat', True]"
      ]
     },
     "execution_count": 29,
     "metadata": {},
     "output_type": "execute_result"
    }
   ],
   "source": [
    "bacon.remove('cat')\n",
    "bacon"
   ]
  },
  {
   "cell_type": "markdown",
   "id": "bb7c2d07",
   "metadata": {},
   "source": [
    "Question No 9: What are the list concatenation and list replication operators?"
   ]
  },
  {
   "cell_type": "markdown",
   "id": "183bf0a7",
   "metadata": {},
   "source": [
    "Example:\n",
    "\n",
    "l=[1,2,3,5,6]"
   ]
  },
  {
   "cell_type": "code",
   "execution_count": 32,
   "id": "7ae72419",
   "metadata": {},
   "outputs": [
    {
     "data": {
      "text/plain": [
       "[1, 2, 3, 5, 6]"
      ]
     },
     "execution_count": 32,
     "metadata": {},
     "output_type": "execute_result"
    }
   ],
   "source": [
    "l= [1,2,3,5,6]\n",
    "l"
   ]
  },
  {
   "cell_type": "code",
   "execution_count": 33,
   "id": "a1e649a8",
   "metadata": {},
   "outputs": [
    {
     "data": {
      "text/plain": [
       "[1, 2, 3, 5, 6, 1, 2, 3, 5, 6]"
      ]
     },
     "execution_count": 33,
     "metadata": {},
     "output_type": "execute_result"
    }
   ],
   "source": [
    "l+l"
   ]
  },
  {
   "cell_type": "code",
   "execution_count": 36,
   "id": "42acb250",
   "metadata": {},
   "outputs": [
    {
     "data": {
      "text/plain": [
       "[1, 2, 3, 5, 6, 1, 2, 3, 5, 6, 1, 2, 3, 5, 6, 1, 2, 3, 5, 6, 1, 2, 3, 5, 6]"
      ]
     },
     "execution_count": 36,
     "metadata": {},
     "output_type": "execute_result"
    }
   ],
   "source": [
    "l*5"
   ]
  },
  {
   "cell_type": "markdown",
   "id": "6cd02ac6",
   "metadata": {},
   "source": [
    "Explanation:\n",
    "    \n",
    "The operator for list concatenation is +, while the operator for replication is * "
   ]
  },
  {
   "cell_type": "markdown",
   "id": "72ee43eb",
   "metadata": {},
   "source": [
    "Question No 10:  What is difference between the list methods append() and insert()?"
   ]
  },
  {
   "cell_type": "markdown",
   "id": "12199bec",
   "metadata": {},
   "source": [
    "Answer:\n",
    "\n",
    "append() will add values only to the end of a list, insert() can add them anywhere in the list."
   ]
  },
  {
   "cell_type": "code",
   "execution_count": 44,
   "id": "42a56146",
   "metadata": {},
   "outputs": [
    {
     "data": {
      "text/plain": [
       "[1, 2, 8, 9]"
      ]
     },
     "execution_count": 44,
     "metadata": {},
     "output_type": "execute_result"
    }
   ],
   "source": [
    "l=[1,2,8,9]\n",
    "l"
   ]
  },
  {
   "cell_type": "code",
   "execution_count": 45,
   "id": "035aaf78",
   "metadata": {},
   "outputs": [
    {
     "data": {
      "text/plain": [
       "['sudh', 1, 2, 8, 9]"
      ]
     },
     "execution_count": 45,
     "metadata": {},
     "output_type": "execute_result"
    }
   ],
   "source": [
    "l.insert(0,'sudh')\n",
    "l"
   ]
  },
  {
   "cell_type": "code",
   "execution_count": 46,
   "id": "6e6e516c",
   "metadata": {},
   "outputs": [
    {
     "data": {
      "text/plain": [
       "[3, 8, 9, 45, 564]"
      ]
     },
     "execution_count": 46,
     "metadata": {},
     "output_type": "execute_result"
    }
   ],
   "source": [
    "l1=[3,8,9,45]\n",
    "l1.append(564)\n",
    "l1"
   ]
  },
  {
   "cell_type": "markdown",
   "id": "53d9db02",
   "metadata": {},
   "source": [
    "Question No 11:  What are the two methods for removing items from a list?"
   ]
  },
  {
   "cell_type": "markdown",
   "id": "c8498145",
   "metadata": {},
   "source": [
    "Answer:\n",
    "\n",
    "The del statement and the remove() list method are two ways to remove values from a list."
   ]
  },
  {
   "cell_type": "code",
   "execution_count": 50,
   "id": "cd327565",
   "metadata": {},
   "outputs": [
    {
     "data": {
      "text/plain": [
       "['a', 'b', 3, 99]"
      ]
     },
     "execution_count": 50,
     "metadata": {},
     "output_type": "execute_result"
    }
   ],
   "source": [
    "l=['a','b',3,99]\n",
    "l"
   ]
  },
  {
   "cell_type": "code",
   "execution_count": 51,
   "id": "40b1c8bf",
   "metadata": {},
   "outputs": [
    {
     "data": {
      "text/plain": [
       "['a', 3, 99]"
      ]
     },
     "execution_count": 51,
     "metadata": {},
     "output_type": "execute_result"
    }
   ],
   "source": [
    "l.remove('b')\n",
    "l"
   ]
  },
  {
   "cell_type": "code",
   "execution_count": 53,
   "id": "03c63e11",
   "metadata": {},
   "outputs": [
    {
     "data": {
      "text/plain": [
       "[0, 1, 2, 3, 4, 5, 6, 7, 8, 9, 10, 11, 12, 13, 14]"
      ]
     },
     "execution_count": 53,
     "metadata": {},
     "output_type": "execute_result"
    }
   ],
   "source": [
    "my_list = list(range(15))\n",
    "\n",
    "my_list"
   ]
  },
  {
   "cell_type": "code",
   "execution_count": 54,
   "id": "81082364",
   "metadata": {},
   "outputs": [
    {
     "name": "stdout",
     "output_type": "stream",
     "text": [
      "After removing first element [0, 1, 2, 3, 4, 5, 6, 7, 8, 9, 11, 12, 13, 14]\n"
     ]
    }
   ],
   "source": [
    "#To remove the firstelement\n",
    "del my_list[10]\n",
    "print(\"After removing first element\", my_list)"
   ]
  },
  {
   "cell_type": "markdown",
   "id": "53f3eb6a",
   "metadata": {},
   "source": [
    "Question No 12:  Describe how list values and string values are identical."
   ]
  },
  {
   "cell_type": "markdown",
   "id": "ffd58dff",
   "metadata": {},
   "source": [
    "Answer:\n",
    "\n",
    "The values that make up a list are called its elements. Lists are similar to strings, which are ordered collections of characters, except that the elements of a list can have any type and for any one list, the items can be of different types.\n",
    "\n",
    "Both lists and strings can be passed to len(), have indexes and slices, be used in for loops, be concatenated or replicated, and be used with the in and not in operators."
   ]
  },
  {
   "cell_type": "markdown",
   "id": "5358faac",
   "metadata": {},
   "source": [
    "Question No 13:   What's the difference between tuples and lists?"
   ]
  },
  {
   "cell_type": "markdown",
   "id": "6c89496e",
   "metadata": {},
   "source": [
    "Answer: \n",
    "\n",
    "Lists are mutable; they can have values added, removed, or changed. Tuples are immutable; they cannot be changed at all. Also, tuples are written using parentheses, (), while lists use the square brackets, [].\n",
    "\n",
    "The implication of iterations is Time-consuming\tThe implication of iterations is comparatively Faster\n",
    "\n",
    "The list is better for performing operations, such as insertion and deletion.\tTuple data type is appropriate for accessing the elements\n",
    "\n",
    "Lists consume more memory\tTuple consumes less memory as compared to the list\n",
    "\n",
    "Lists have several built-in methods\tTuple does not have many built-in methods.\n",
    "\n",
    "\n",
    "The unexpected changes and errors are more likely to occur\tIn tuple, it is hard to take place."
   ]
  },
  {
   "cell_type": "markdown",
   "id": "be236a97",
   "metadata": {},
   "source": [
    "Question No 14:  How do you type a tuple value that only contains the integer 42?"
   ]
  },
  {
   "cell_type": "markdown",
   "id": "e6a48da7",
   "metadata": {},
   "source": [
    "Answer:\n",
    "\n",
    "t =(42,)\n",
    "\n",
    "To create a tuple with only one item, you have add a comma after the item, otherwise Python will not recognize the variable as a tuple."
   ]
  },
  {
   "cell_type": "markdown",
   "id": "9f77644e",
   "metadata": {},
   "source": [
    "Question No 15:   How do you get a list value's tuple form? How do you get a tuple value's list form?"
   ]
  },
  {
   "cell_type": "markdown",
   "id": "1d87dbfe",
   "metadata": {},
   "source": [
    "Answer:\n",
    "\n",
    "\n",
    "The tuple() and list() functions, respectively can be used \n",
    "    "
   ]
  },
  {
   "cell_type": "code",
   "execution_count": 63,
   "id": "909267ea",
   "metadata": {},
   "outputs": [],
   "source": [
    "l=[3,5,6,'lk']"
   ]
  },
  {
   "cell_type": "code",
   "execution_count": 64,
   "id": "2679973e",
   "metadata": {},
   "outputs": [
    {
     "data": {
      "text/plain": [
       "(3, 5, 6, 'lk')"
      ]
     },
     "execution_count": 64,
     "metadata": {},
     "output_type": "execute_result"
    }
   ],
   "source": [
    "tuple(l)"
   ]
  },
  {
   "cell_type": "code",
   "execution_count": 65,
   "id": "ea483761",
   "metadata": {},
   "outputs": [],
   "source": [
    "t=('j','g',5,9)"
   ]
  },
  {
   "cell_type": "code",
   "execution_count": 66,
   "id": "cc055550",
   "metadata": {},
   "outputs": [
    {
     "data": {
      "text/plain": [
       "['j', 'g', 5, 9]"
      ]
     },
     "execution_count": 66,
     "metadata": {},
     "output_type": "execute_result"
    }
   ],
   "source": [
    "list(t)"
   ]
  },
  {
   "cell_type": "markdown",
   "id": "034faa77",
   "metadata": {},
   "source": [
    "Question No 16:   Variables that \"contain\" list values are not necessarily lists themselves. Instead, what do they contain?"
   ]
  },
  {
   "cell_type": "markdown",
   "id": "f6e8e2cf",
   "metadata": {},
   "source": [
    "Answer:\n",
    "\n",
    "They contain references to list values."
   ]
  },
  {
   "cell_type": "markdown",
   "id": "6138c3d3",
   "metadata": {},
   "source": [
    "Question No 17:   How do you distinguish between copy.copy() and copy.deepcopy()?"
   ]
  },
  {
   "cell_type": "raw",
   "id": "4ba75249",
   "metadata": {},
   "source": [
    "Answer:  \n",
    "\n",
    "The copy.copy() function will do a shallow copy of a list, while the copy.deepcopy() function will do a deep copy of a list. That is, only copy.deepcopy() will duplicate any lists inside the list."
   ]
  },
  {
   "cell_type": "code",
   "execution_count": null,
   "id": "75f92bf3",
   "metadata": {},
   "outputs": [],
   "source": []
  }
 ],
 "metadata": {
  "kernelspec": {
   "display_name": "Python 3 (ipykernel)",
   "language": "python",
   "name": "python3"
  },
  "language_info": {
   "codemirror_mode": {
    "name": "ipython",
    "version": 3
   },
   "file_extension": ".py",
   "mimetype": "text/x-python",
   "name": "python",
   "nbconvert_exporter": "python",
   "pygments_lexer": "ipython3",
   "version": "3.9.12"
  }
 },
 "nbformat": 4,
 "nbformat_minor": 5
}
