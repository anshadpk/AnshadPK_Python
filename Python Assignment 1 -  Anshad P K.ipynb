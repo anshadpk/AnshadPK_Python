{
 "cells": [
  {
   "cell_type": "markdown",
   "id": "39c34a6a",
   "metadata": {},
   "source": [
    "1. In the below elements which of them are values or an expression? eg:- values can be integer or string and expressions will be mathematical operators.\n",
    "\n",
    "*\n",
    "\n",
    "'hello'\n",
    "\n",
    "-87.8\n",
    "\n",
    "-\n",
    "\n",
    "/\n",
    "\n",
    "+\n",
    "\n",
    "6\n",
    "\n"
   ]
  },
  {
   "cell_type": "markdown",
   "id": "048761db",
   "metadata": {},
   "source": [
    "Answer:\n",
    "\n",
    " * , -, /, + these are mathematical operators. So it can be considered as EXPRESSIONS\n",
    "\n",
    "'hello' this is a string\n",
    "\n",
    " -87.8 , 6 these are integers. strings and integers can be considered as VALUES\n"
   ]
  },
  {
   "cell_type": "markdown",
   "id": "e73a7809",
   "metadata": {},
   "source": [
    "2. What is the difference between string and variable?\n"
   ]
  },
  {
   "cell_type": "markdown",
   "id": "12d3f47f",
   "metadata": {},
   "source": [
    "Answer:\n",
    "    \n",
    "Variables are symbols that we can use to store data in a program.\n",
    "It is an empty box that can be filled with some data or value.\n",
    "Strings are data, so we can use them to fill up a variable.\n",
    "Declaring strings as variables can make it easier for us to work with strings throughout our Python programs.\n"
   ]
  },
  {
   "cell_type": "markdown",
   "id": "564647dd",
   "metadata": {},
   "source": [
    "3. Describe three different data types."
   ]
  },
  {
   "cell_type": "markdown",
   "id": "0e64b6cd",
   "metadata": {},
   "source": [
    "Answer:\n",
    "\n",
    "String:\n",
    "\n",
    "In Python, Strings are arrays of bytes representing Unicode characters. A string is a collection of one or more characters put in a single quote, double-quote or triple quote. In python there is no character data type, a character is a string of length one. It is represented by str class.\n",
    "\n",
    " s= \"sudhanshu\"\n",
    " \n",
    "List:\n",
    "\n",
    "Lists are just like the arrays, declared in other languages which is a ordered collection of data. It is very flexible as the items in a list do not need to be of the same type.\n",
    " \n",
    "\n",
    "Lists in Python can be created by just placing the sequence inside the square brackets[].\n",
    "\n",
    "\n",
    "l= [1, 2,'hello', 56]\n",
    "\n",
    "\n",
    "Tuple:\n",
    "\n",
    "Just like list, tuple is also an ordered collection of Python objects. The only difference between tuple and list is that tuples are immutable i.e. tuples cannot be modified after it is created. It is represented by tuple class.\n",
    " \n",
    "\n",
    "In Python, tuples are created by placing a sequence of values separated by ‘comma’ with or without the use of parentheses for grouping of the data sequence. Tuples can contain any number of elements and of any datatype (like strings, integers, list, etc.).\n",
    "\n",
    "t =(1,2,4,\"sudhanshu\",456)\n"
   ]
  },
  {
   "cell_type": "markdown",
   "id": "eff59380",
   "metadata": {},
   "source": [
    "4. What is an expression made up of? What do all expressions do?\n"
   ]
  },
  {
   "cell_type": "markdown",
   "id": "1f473a4d",
   "metadata": {},
   "source": [
    "Answer:\n",
    "\n",
    "An expression is a combination of operators and operands that is interpreted to produce some other value. \n",
    "\n",
    "An expression is anything that evaluates to a value.\n",
    " \n",
    "\n"
   ]
  },
  {
   "cell_type": "markdown",
   "id": "a934cdee",
   "metadata": {},
   "source": [
    "5. This assignment statements, like spam = 10. What is the difference between an expression and a statement?"
   ]
  },
  {
   "cell_type": "markdown",
   "id": "0ae1b98b",
   "metadata": {},
   "source": [
    "Answer:\n",
    "\n",
    "An expression evaluates to a single value. A statement does not."
   ]
  },
  {
   "cell_type": "markdown",
   "id": "ad8ec64a",
   "metadata": {},
   "source": [
    "6. After running the following code, what does the variable bacon contain?\n",
    "bacon = 22\n",
    "bacon + 1\n"
   ]
  },
  {
   "cell_type": "markdown",
   "id": "97137481",
   "metadata": {},
   "source": [
    "Answer:\n",
    "\n",
    "\n",
    "bacon =22\n",
    "\n",
    "bacon+1\n",
    "\n",
    "print(bacon)\n",
    "\n",
    "# The bacon variable is set to 22. \n",
    "#The bacon + 1 expression does not reassign the value in bacon (that would need an assignment statement: bacon = bacon + 1)\n",
    "\n",
    "# so value of bacon remains as 22\n",
    "\n"
   ]
  },
  {
   "cell_type": "markdown",
   "id": "60e63a66",
   "metadata": {},
   "source": [
    "7. What should the values of the following two terms be?\n",
    "'spam' + 'spamspam'\n",
    "'spam' * 3\n"
   ]
  },
  {
   "cell_type": "code",
   "execution_count": 10,
   "id": "a77511c6",
   "metadata": {},
   "outputs": [
    {
     "data": {
      "text/plain": [
       "'spamspamspam'"
      ]
     },
     "execution_count": 10,
     "metadata": {},
     "output_type": "execute_result"
    }
   ],
   "source": [
    "'spam'+'spamspam'"
   ]
  },
  {
   "cell_type": "code",
   "execution_count": 11,
   "id": "38c3ec17",
   "metadata": {},
   "outputs": [
    {
     "data": {
      "text/plain": [
       "'spamspamspam'"
      ]
     },
     "execution_count": 11,
     "metadata": {},
     "output_type": "execute_result"
    }
   ],
   "source": [
    "'spam'*3"
   ]
  },
  {
   "cell_type": "markdown",
   "id": "ebfac254",
   "metadata": {},
   "source": [
    "8. Why is eggs a valid variable name while 100 is invalid?\n"
   ]
  },
  {
   "cell_type": "markdown",
   "id": "2e46548f",
   "metadata": {},
   "source": [
    "Answer:\n",
    "\n",
    "Variable names cannot begin with a number"
   ]
  },
  {
   "cell_type": "markdown",
   "id": "b2834a84",
   "metadata": {},
   "source": [
    "9. What three functions can be used to get the integer, floating-point number, or string version of a value?\n"
   ]
  },
  {
   "cell_type": "markdown",
   "id": "9756ad6d",
   "metadata": {},
   "source": [
    "Answer:\n",
    "\n",
    "The int(), float(), and str() functions will evaluate to the integer, floating-point number, and string versions of the value passed to them."
   ]
  },
  {
   "cell_type": "markdown",
   "id": "0981f6ad",
   "metadata": {},
   "source": [
    "10. Why does this expression cause an error? How can you fix it?\n",
    "'I have eaten ' + 99 + ' burritos.'\n",
    "\n"
   ]
  },
  {
   "cell_type": "markdown",
   "id": "c4996dde",
   "metadata": {},
   "source": [
    "The expression causes an error because 99 is an integer, and only strings can be concatenated to other strings with the + operator. \n",
    "\n",
    "The correct way is 'I have eaten ' + str(99) + ' burritos.'.\n"
   ]
  },
  {
   "cell_type": "code",
   "execution_count": 12,
   "id": "7d9d1fc4",
   "metadata": {},
   "outputs": [
    {
     "data": {
      "text/plain": [
       "'I have eaten 99 burritos.'"
      ]
     },
     "execution_count": 12,
     "metadata": {},
     "output_type": "execute_result"
    }
   ],
   "source": [
    "'I have eaten ' + str(99) + ' burritos.'"
   ]
  },
  {
   "cell_type": "code",
   "execution_count": null,
   "id": "1735d41d",
   "metadata": {},
   "outputs": [],
   "source": []
  }
 ],
 "metadata": {
  "kernelspec": {
   "display_name": "Python 3 (ipykernel)",
   "language": "python",
   "name": "python3"
  },
  "language_info": {
   "codemirror_mode": {
    "name": "ipython",
    "version": 3
   },
   "file_extension": ".py",
   "mimetype": "text/x-python",
   "name": "python",
   "nbconvert_exporter": "python",
   "pygments_lexer": "ipython3",
   "version": "3.9.12"
  }
 },
 "nbformat": 4,
 "nbformat_minor": 5
}
